{
  "nbformat": 4,
  "nbformat_minor": 0,
  "metadata": {
    "colab": {
      "name": "basic_Webscraper.ipynb",
      "provenance": []
    },
    "kernelspec": {
      "name": "python3",
      "display_name": "Python 3"
    }
  },
  "cells": [
    {
      "cell_type": "code",
      "metadata": {
        "id": "tCr8cLB6WED1",
        "colab_type": "code",
        "colab": {}
      },
      "source": [
        "import pandas as pd\n",
        "from bs4 import BeautifulSoup\n",
        "import requests\n"
      ],
      "execution_count": 1,
      "outputs": []
    },
    {
      "cell_type": "code",
      "metadata": {
        "id": "oIujeRcDYqIv",
        "colab_type": "code",
        "colab": {}
      },
      "source": [
        "url = \"https://en.wikipedia.org/wiki/List_of_U.S._states_and_territories_by_GDP_per_capita\"\n",
        "data= requests.get(url)"
      ],
      "execution_count": 2,
      "outputs": []
    },
    {
      "cell_type": "code",
      "metadata": {
        "id": "7CsKCWYdZJr3",
        "colab_type": "code",
        "colab": {}
      },
      "source": [
        "soup= BeautifulSoup(data.text, \"html.parser\")"
      ],
      "execution_count": 3,
      "outputs": []
    },
    {
      "cell_type": "code",
      "metadata": {
        "id": "WG3xk1n7bS_4",
        "colab_type": "code",
        "colab": {
          "base_uri": "https://localhost:8080/",
          "height": 34
        },
        "outputId": "ed4af052-c601-4629-fc5e-cf4d31bafe33"
      },
      "source": [
        "print(\"All the tables on the page:\" , len(soup.findAll(\"table\")))"
      ],
      "execution_count": 5,
      "outputs": [
        {
          "output_type": "stream",
          "text": [
            "All the tables on the page: 5\n"
          ],
          "name": "stdout"
        }
      ]
    },
    {
      "cell_type": "code",
      "metadata": {
        "id": "NfnuhUP3oesA",
        "colab_type": "code",
        "colab": {
          "base_uri": "https://localhost:8080/",
          "height": 34
        },
        "outputId": "f4a5e59c-b5b1-4641-c4b0-7d8e1b7d748a"
      },
      "source": [
        "title= soup.title\n",
        "print(title)"
      ],
      "execution_count": 6,
      "outputs": [
        {
          "output_type": "stream",
          "text": [
            "<title>List of U.S. states and territories by GDP per capita - Wikipedia</title>\n"
          ],
          "name": "stdout"
        }
      ]
    },
    {
      "cell_type": "code",
      "metadata": {
        "id": "G3djtgkZotRz",
        "colab_type": "code",
        "colab": {}
      },
      "source": [
        "text= soup.get_text()\n",
        "print(text)\n",
        "#This gives us all the text on the webpage"
      ],
      "execution_count": null,
      "outputs": []
    },
    {
      "cell_type": "code",
      "metadata": {
        "id": "BPG5EZP6Z282",
        "colab_type": "code",
        "colab": {}
      },
      "source": [
        "my_table= soup.findAll(\"table\")[0]\n",
        "my_table"
      ],
      "execution_count": null,
      "outputs": []
    },
    {
      "cell_type": "code",
      "metadata": {
        "id": "y9_x_h1o41HN",
        "colab_type": "code",
        "colab": {
          "base_uri": "https://localhost:8080/",
          "height": 34
        },
        "outputId": "37da5167-c0cf-4dbe-f256-2a0fea1ba4ac"
      },
      "source": [
        "rows_in_table= my_table.findAll(\"tr\")\n",
        "len(rows_in_table)\n",
        "#Becasue there are 53 rows in our table on wiki page"
      ],
      "execution_count": 9,
      "outputs": [
        {
          "output_type": "execute_result",
          "data": {
            "text/plain": [
              "53"
            ]
          },
          "metadata": {
            "tags": []
          },
          "execution_count": 9
        }
      ]
    },
    {
      "cell_type": "code",
      "metadata": {
        "id": "A05IWqLC6sXR",
        "colab_type": "code",
        "colab": {
          "base_uri": "https://localhost:8080/",
          "height": 901
        },
        "outputId": "40d4e7c4-d96d-47c7-e0bb-9708797b7477"
      },
      "source": [
        "links= my_table.findAll(\"a\")\n",
        "links"
      ],
      "execution_count": 15,
      "outputs": [
        {
          "output_type": "execute_result",
          "data": {
            "text/plain": [
              "[<a href=\"#cite_note-2\">[2]</a>,\n",
              " <a href=\"/wiki/Washington,_D.C.\" title=\"Washington, D.C.\">District of Columbia</a>,\n",
              " <a href=\"/wiki/Massachusetts\" title=\"Massachusetts\">Massachusetts</a>,\n",
              " <a href=\"/wiki/New_York_(state)\" title=\"New York (state)\">New York</a>,\n",
              " <a href=\"/wiki/Connecticut\" title=\"Connecticut\">Connecticut</a>,\n",
              " <a href=\"/wiki/Alaska\" title=\"Alaska\">Alaska</a>,\n",
              " <a href=\"/wiki/Delaware\" title=\"Delaware\">Delaware</a>,\n",
              " <a href=\"/wiki/North_Dakota\" title=\"North Dakota\">North Dakota</a>,\n",
              " <a href=\"/wiki/Wyoming\" title=\"Wyoming\">Wyoming</a>,\n",
              " <a href=\"/wiki/California\" title=\"California\">California</a>,\n",
              " <a href=\"/wiki/New_Jersey\" title=\"New Jersey\">New Jersey</a>,\n",
              " <a href=\"/wiki/Washington_(state)\" title=\"Washington (state)\">Washington</a>,\n",
              " <a href=\"/wiki/Maryland\" title=\"Maryland\">Maryland</a>,\n",
              " <a href=\"/wiki/Illinois\" title=\"Illinois\">Illinois</a>,\n",
              " <a href=\"/wiki/Texas\" title=\"Texas\">Texas</a>,\n",
              " <a href=\"/wiki/Minnesota\" title=\"Minnesota\">Minnesota</a>,\n",
              " <a href=\"/wiki/Nebraska\" title=\"Nebraska\">Nebraska</a>,\n",
              " <a href=\"/wiki/Colorado\" title=\"Colorado\">Colorado</a>,\n",
              " <a href=\"/wiki/New_Hampshire\" title=\"New Hampshire\">New Hampshire</a>,\n",
              " <a href=\"/wiki/Virginia\" title=\"Virginia\">Virginia</a>,\n",
              " <a href=\"/wiki/Hawaii\" title=\"Hawaii\">Hawaii</a>,\n",
              " <a href=\"/wiki/Pennsylvania\" title=\"Pennsylvania\">Pennsylvania</a>,\n",
              " <a href=\"/wiki/Oregon\" title=\"Oregon\">Oregon</a>,\n",
              " <a href=\"/wiki/Iowa\" title=\"Iowa\">Iowa</a>,\n",
              " <a href=\"/wiki/South_Dakota\" title=\"South Dakota\">South Dakota</a>,\n",
              " <a href=\"/wiki/Rhode_Island\" title=\"Rhode Island\">Rhode Island</a>,\n",
              " <a href=\"/wiki/Ohio\" title=\"Ohio\">Ohio</a>,\n",
              " <a href=\"/wiki/Wisconsin\" title=\"Wisconsin\">Wisconsin</a>,\n",
              " <a href=\"/wiki/Kansas\" title=\"Kansas\">Kansas</a>,\n",
              " <a href=\"/wiki/Indiana\" title=\"Indiana\">Indiana</a>,\n",
              " <a href=\"/wiki/Georgia_(U.S._state)\" title=\"Georgia (U.S. state)\">Georgia</a>,\n",
              " <a href=\"/wiki/Utah\" title=\"Utah\">Utah</a>,\n",
              " <a href=\"/wiki/Oklahoma\" title=\"Oklahoma\">Oklahoma</a>,\n",
              " <a href=\"/wiki/North_Carolina\" title=\"North Carolina\">North Carolina</a>,\n",
              " <a href=\"/wiki/Vermont\" title=\"Vermont\">Vermont</a>,\n",
              " <a href=\"/wiki/Louisiana\" title=\"Louisiana\">Louisiana</a>,\n",
              " <a href=\"/wiki/Nevada\" title=\"Nevada\">Nevada</a>,\n",
              " <a href=\"/wiki/Michigan\" title=\"Michigan\">Michigan</a>,\n",
              " <a href=\"/wiki/Missouri\" title=\"Missouri\">Missouri</a>,\n",
              " <a href=\"/wiki/Tennessee\" title=\"Tennessee\">Tennessee</a>,\n",
              " <a href=\"/wiki/New_Mexico\" title=\"New Mexico\">New Mexico</a>,\n",
              " <a href=\"/wiki/Florida\" title=\"Florida\">Florida</a>,\n",
              " <a href=\"/wiki/Montana\" title=\"Montana\">Montana</a>,\n",
              " <a href=\"/wiki/Kentucky\" title=\"Kentucky\">Kentucky</a>,\n",
              " <a href=\"/wiki/Maine\" title=\"Maine\">Maine</a>,\n",
              " <a href=\"/wiki/Arizona\" title=\"Arizona\">Arizona</a>,\n",
              " <a href=\"/wiki/Alabama\" title=\"Alabama\">Alabama</a>,\n",
              " <a href=\"/wiki/South_Carolina\" title=\"South Carolina\">South Carolina</a>,\n",
              " <a href=\"/wiki/Arkansas\" title=\"Arkansas\">Arkansas</a>,\n",
              " <a href=\"/wiki/West_Virginia\" title=\"West Virginia\">West Virginia</a>,\n",
              " <a href=\"/wiki/Idaho\" title=\"Idaho\">Idaho</a>,\n",
              " <a href=\"/wiki/Mississippi\" title=\"Mississippi\">Mississippi</a>]"
            ]
          },
          "metadata": {
            "tags": []
          },
          "execution_count": 15
        }
      ]
    },
    {
      "cell_type": "code",
      "metadata": {
        "id": "abxSUDUBr4Kc",
        "colab_type": "code",
        "colab": {
          "base_uri": "https://localhost:8080/",
          "height": 901
        },
        "outputId": "9cc1379c-5558-4ffa-ee52-09f24b0fa766"
      },
      "source": [
        "states= []\n",
        "for link in links:\n",
        "  states.append(link.get(\"title\"))\n",
        "states"
      ],
      "execution_count": 16,
      "outputs": [
        {
          "output_type": "execute_result",
          "data": {
            "text/plain": [
              "[None,\n",
              " 'Washington, D.C.',\n",
              " 'Massachusetts',\n",
              " 'New York (state)',\n",
              " 'Connecticut',\n",
              " 'Alaska',\n",
              " 'Delaware',\n",
              " 'North Dakota',\n",
              " 'Wyoming',\n",
              " 'California',\n",
              " 'New Jersey',\n",
              " 'Washington (state)',\n",
              " 'Maryland',\n",
              " 'Illinois',\n",
              " 'Texas',\n",
              " 'Minnesota',\n",
              " 'Nebraska',\n",
              " 'Colorado',\n",
              " 'New Hampshire',\n",
              " 'Virginia',\n",
              " 'Hawaii',\n",
              " 'Pennsylvania',\n",
              " 'Oregon',\n",
              " 'Iowa',\n",
              " 'South Dakota',\n",
              " 'Rhode Island',\n",
              " 'Ohio',\n",
              " 'Wisconsin',\n",
              " 'Kansas',\n",
              " 'Indiana',\n",
              " 'Georgia (U.S. state)',\n",
              " 'Utah',\n",
              " 'Oklahoma',\n",
              " 'North Carolina',\n",
              " 'Vermont',\n",
              " 'Louisiana',\n",
              " 'Nevada',\n",
              " 'Michigan',\n",
              " 'Missouri',\n",
              " 'Tennessee',\n",
              " 'New Mexico',\n",
              " 'Florida',\n",
              " 'Montana',\n",
              " 'Kentucky',\n",
              " 'Maine',\n",
              " 'Arizona',\n",
              " 'Alabama',\n",
              " 'South Carolina',\n",
              " 'Arkansas',\n",
              " 'West Virginia',\n",
              " 'Idaho',\n",
              " 'Mississippi']"
            ]
          },
          "metadata": {
            "tags": []
          },
          "execution_count": 16
        }
      ]
    },
    {
      "cell_type": "code",
      "metadata": {
        "id": "fjCETG2NsNTN",
        "colab_type": "code",
        "colab": {
          "base_uri": "https://localhost:8080/",
          "height": 1000
        },
        "outputId": "504ac78d-f94e-4798-a7b0-165aee9d02d2"
      },
      "source": [
        "states_data = pd.DataFrame(states)\n",
        "states_data = states_data[1:]\n",
        "states_data"
      ],
      "execution_count": 20,
      "outputs": [
        {
          "output_type": "execute_result",
          "data": {
            "text/html": [
              "<div>\n",
              "<style scoped>\n",
              "    .dataframe tbody tr th:only-of-type {\n",
              "        vertical-align: middle;\n",
              "    }\n",
              "\n",
              "    .dataframe tbody tr th {\n",
              "        vertical-align: top;\n",
              "    }\n",
              "\n",
              "    .dataframe thead th {\n",
              "        text-align: right;\n",
              "    }\n",
              "</style>\n",
              "<table border=\"1\" class=\"dataframe\">\n",
              "  <thead>\n",
              "    <tr style=\"text-align: right;\">\n",
              "      <th></th>\n",
              "      <th>0</th>\n",
              "    </tr>\n",
              "  </thead>\n",
              "  <tbody>\n",
              "    <tr>\n",
              "      <th>1</th>\n",
              "      <td>Washington, D.C.</td>\n",
              "    </tr>\n",
              "    <tr>\n",
              "      <th>2</th>\n",
              "      <td>Massachusetts</td>\n",
              "    </tr>\n",
              "    <tr>\n",
              "      <th>3</th>\n",
              "      <td>New York (state)</td>\n",
              "    </tr>\n",
              "    <tr>\n",
              "      <th>4</th>\n",
              "      <td>Connecticut</td>\n",
              "    </tr>\n",
              "    <tr>\n",
              "      <th>5</th>\n",
              "      <td>Alaska</td>\n",
              "    </tr>\n",
              "    <tr>\n",
              "      <th>6</th>\n",
              "      <td>Delaware</td>\n",
              "    </tr>\n",
              "    <tr>\n",
              "      <th>7</th>\n",
              "      <td>North Dakota</td>\n",
              "    </tr>\n",
              "    <tr>\n",
              "      <th>8</th>\n",
              "      <td>Wyoming</td>\n",
              "    </tr>\n",
              "    <tr>\n",
              "      <th>9</th>\n",
              "      <td>California</td>\n",
              "    </tr>\n",
              "    <tr>\n",
              "      <th>10</th>\n",
              "      <td>New Jersey</td>\n",
              "    </tr>\n",
              "    <tr>\n",
              "      <th>11</th>\n",
              "      <td>Washington (state)</td>\n",
              "    </tr>\n",
              "    <tr>\n",
              "      <th>12</th>\n",
              "      <td>Maryland</td>\n",
              "    </tr>\n",
              "    <tr>\n",
              "      <th>13</th>\n",
              "      <td>Illinois</td>\n",
              "    </tr>\n",
              "    <tr>\n",
              "      <th>14</th>\n",
              "      <td>Texas</td>\n",
              "    </tr>\n",
              "    <tr>\n",
              "      <th>15</th>\n",
              "      <td>Minnesota</td>\n",
              "    </tr>\n",
              "    <tr>\n",
              "      <th>16</th>\n",
              "      <td>Nebraska</td>\n",
              "    </tr>\n",
              "    <tr>\n",
              "      <th>17</th>\n",
              "      <td>Colorado</td>\n",
              "    </tr>\n",
              "    <tr>\n",
              "      <th>18</th>\n",
              "      <td>New Hampshire</td>\n",
              "    </tr>\n",
              "    <tr>\n",
              "      <th>19</th>\n",
              "      <td>Virginia</td>\n",
              "    </tr>\n",
              "    <tr>\n",
              "      <th>20</th>\n",
              "      <td>Hawaii</td>\n",
              "    </tr>\n",
              "    <tr>\n",
              "      <th>21</th>\n",
              "      <td>Pennsylvania</td>\n",
              "    </tr>\n",
              "    <tr>\n",
              "      <th>22</th>\n",
              "      <td>Oregon</td>\n",
              "    </tr>\n",
              "    <tr>\n",
              "      <th>23</th>\n",
              "      <td>Iowa</td>\n",
              "    </tr>\n",
              "    <tr>\n",
              "      <th>24</th>\n",
              "      <td>South Dakota</td>\n",
              "    </tr>\n",
              "    <tr>\n",
              "      <th>25</th>\n",
              "      <td>Rhode Island</td>\n",
              "    </tr>\n",
              "    <tr>\n",
              "      <th>26</th>\n",
              "      <td>Ohio</td>\n",
              "    </tr>\n",
              "    <tr>\n",
              "      <th>27</th>\n",
              "      <td>Wisconsin</td>\n",
              "    </tr>\n",
              "    <tr>\n",
              "      <th>28</th>\n",
              "      <td>Kansas</td>\n",
              "    </tr>\n",
              "    <tr>\n",
              "      <th>29</th>\n",
              "      <td>Indiana</td>\n",
              "    </tr>\n",
              "    <tr>\n",
              "      <th>30</th>\n",
              "      <td>Georgia (U.S. state)</td>\n",
              "    </tr>\n",
              "    <tr>\n",
              "      <th>31</th>\n",
              "      <td>Utah</td>\n",
              "    </tr>\n",
              "    <tr>\n",
              "      <th>32</th>\n",
              "      <td>Oklahoma</td>\n",
              "    </tr>\n",
              "    <tr>\n",
              "      <th>33</th>\n",
              "      <td>North Carolina</td>\n",
              "    </tr>\n",
              "    <tr>\n",
              "      <th>34</th>\n",
              "      <td>Vermont</td>\n",
              "    </tr>\n",
              "    <tr>\n",
              "      <th>35</th>\n",
              "      <td>Louisiana</td>\n",
              "    </tr>\n",
              "    <tr>\n",
              "      <th>36</th>\n",
              "      <td>Nevada</td>\n",
              "    </tr>\n",
              "    <tr>\n",
              "      <th>37</th>\n",
              "      <td>Michigan</td>\n",
              "    </tr>\n",
              "    <tr>\n",
              "      <th>38</th>\n",
              "      <td>Missouri</td>\n",
              "    </tr>\n",
              "    <tr>\n",
              "      <th>39</th>\n",
              "      <td>Tennessee</td>\n",
              "    </tr>\n",
              "    <tr>\n",
              "      <th>40</th>\n",
              "      <td>New Mexico</td>\n",
              "    </tr>\n",
              "    <tr>\n",
              "      <th>41</th>\n",
              "      <td>Florida</td>\n",
              "    </tr>\n",
              "    <tr>\n",
              "      <th>42</th>\n",
              "      <td>Montana</td>\n",
              "    </tr>\n",
              "    <tr>\n",
              "      <th>43</th>\n",
              "      <td>Kentucky</td>\n",
              "    </tr>\n",
              "    <tr>\n",
              "      <th>44</th>\n",
              "      <td>Maine</td>\n",
              "    </tr>\n",
              "    <tr>\n",
              "      <th>45</th>\n",
              "      <td>Arizona</td>\n",
              "    </tr>\n",
              "    <tr>\n",
              "      <th>46</th>\n",
              "      <td>Alabama</td>\n",
              "    </tr>\n",
              "    <tr>\n",
              "      <th>47</th>\n",
              "      <td>South Carolina</td>\n",
              "    </tr>\n",
              "    <tr>\n",
              "      <th>48</th>\n",
              "      <td>Arkansas</td>\n",
              "    </tr>\n",
              "    <tr>\n",
              "      <th>49</th>\n",
              "      <td>West Virginia</td>\n",
              "    </tr>\n",
              "    <tr>\n",
              "      <th>50</th>\n",
              "      <td>Idaho</td>\n",
              "    </tr>\n",
              "    <tr>\n",
              "      <th>51</th>\n",
              "      <td>Mississippi</td>\n",
              "    </tr>\n",
              "  </tbody>\n",
              "</table>\n",
              "</div>"
            ],
            "text/plain": [
              "                       0\n",
              "1       Washington, D.C.\n",
              "2          Massachusetts\n",
              "3       New York (state)\n",
              "4            Connecticut\n",
              "5                 Alaska\n",
              "6               Delaware\n",
              "7           North Dakota\n",
              "8                Wyoming\n",
              "9             California\n",
              "10            New Jersey\n",
              "11    Washington (state)\n",
              "12              Maryland\n",
              "13              Illinois\n",
              "14                 Texas\n",
              "15             Minnesota\n",
              "16              Nebraska\n",
              "17              Colorado\n",
              "18         New Hampshire\n",
              "19              Virginia\n",
              "20                Hawaii\n",
              "21          Pennsylvania\n",
              "22                Oregon\n",
              "23                  Iowa\n",
              "24          South Dakota\n",
              "25          Rhode Island\n",
              "26                  Ohio\n",
              "27             Wisconsin\n",
              "28                Kansas\n",
              "29               Indiana\n",
              "30  Georgia (U.S. state)\n",
              "31                  Utah\n",
              "32              Oklahoma\n",
              "33        North Carolina\n",
              "34               Vermont\n",
              "35             Louisiana\n",
              "36                Nevada\n",
              "37              Michigan\n",
              "38              Missouri\n",
              "39             Tennessee\n",
              "40            New Mexico\n",
              "41               Florida\n",
              "42               Montana\n",
              "43              Kentucky\n",
              "44                 Maine\n",
              "45               Arizona\n",
              "46               Alabama\n",
              "47        South Carolina\n",
              "48              Arkansas\n",
              "49         West Virginia\n",
              "50                 Idaho\n",
              "51           Mississippi"
            ]
          },
          "metadata": {
            "tags": []
          },
          "execution_count": 20
        }
      ]
    },
    {
      "cell_type": "code",
      "metadata": {
        "id": "tK6W8xrwsuO-",
        "colab_type": "code",
        "colab": {}
      },
      "source": [
        ""
      ],
      "execution_count": null,
      "outputs": []
    }
  ]
}